{
 "cells": [
  {
   "cell_type": "code",
   "execution_count": 1,
   "metadata": {},
   "outputs": [],
   "source": [
    "import numpy as onp\n",
    "import scipy as sp\n",
    "import math\n",
    "import jax.numpy as np\n",
    "import matplotlib.pyplot as plt\n",
    "from functools import partial\n",
    "import tensorflow_datasets as tfds\n",
    "import gzip\n",
    "from jax.config import config\n",
    "config.update(\"jax_enable_x64\", True)\n",
    "import neural_tangents as nt\n",
    "from neural_tangents import stax\n",
    "from Utils.Utils_misc_functions import generate_datasets"
   ]
  },
  {
   "cell_type": "markdown",
   "metadata": {},
   "source": [
    "## Data Loading and conversion"
   ]
  },
  {
   "cell_type": "markdown",
   "metadata": {},
   "source": [
    "Below are functions I used to generate the data. train_data and test_data are dictionaries {'image':X, 'label': Y}. \n",
    "<br><br>\n",
    "X are the images of size (32 x 32 x 3). Y represents one-hot encoded labels of dimension 10, where off entries are equal to -0.1 and on entries are equal to 0.9.The images were standardised with per channel mean and standard deviation"
   ]
  },
  {
   "cell_type": "code",
   "execution_count": 2,
   "metadata": {},
   "outputs": [],
   "source": [
    "def standardise_images(images):\n",
    "    '''\n",
    "    standardise images across Channels\n",
    "    '''\n",
    "    mean = np.mean(images, axis=(1,2), keepdims=True)\n",
    "    std = np.std(images, axis=(1,2), keepdims=True)\n",
    "    standardised_images = (images - mean) / std\n",
    "    return standardised_images"
   ]
  },
  {
   "cell_type": "code",
   "execution_count": 3,
   "metadata": {},
   "outputs": [
    {
     "name": "stderr",
     "output_type": "stream",
     "text": [
      "/dora/users/stfour/tuoz/stax_computing/lib/python3.7/site-packages/jax/lib/xla_bridge.py:130: UserWarning: No GPU/TPU found, falling back to CPU.\n",
      "  warnings.warn('No GPU/TPU found, falling back to CPU.')\n"
     ]
    }
   ],
   "source": [
    "train_size = 250\n",
    "test_size = 50\n",
    "train_data, test_data = generate_datasets(train_size=train_size, test_size=test_size, type = 'cifar10', \n",
    "                                          flatten=False)"
   ]
  },
  {
   "cell_type": "code",
   "execution_count": 17,
   "metadata": {},
   "outputs": [
    {
     "name": "stdout",
     "output_type": "stream",
     "text": [
      "(250, 32, 32, 3) (250, 10)\n"
     ]
    }
   ],
   "source": [
    "print(train_data['image'].shape, train_data['label'].shape)"
   ]
  },
  {
   "cell_type": "code",
   "execution_count": 18,
   "metadata": {},
   "outputs": [
    {
     "name": "stdout",
     "output_type": "stream",
     "text": [
      "The mean is -0.00 and the variance is 1.00\n"
     ]
    }
   ],
   "source": [
    "print('The mean is {:.2f} and the variance is {:.2f}'.format(\n",
    "    train_data['image'].mean(), train_data['image'].var()))"
   ]
  },
  {
   "cell_type": "code",
   "execution_count": 6,
   "metadata": {},
   "outputs": [
    {
     "data": {
      "text/plain": [
       "array([[-0.1,  0.9, -0.1, -0.1, -0.1, -0.1, -0.1, -0.1, -0.1, -0.1],\n",
       "       [-0.1, -0.1,  0.9, -0.1, -0.1, -0.1, -0.1, -0.1, -0.1, -0.1],\n",
       "       [-0.1, -0.1,  0.9, -0.1, -0.1, -0.1, -0.1, -0.1, -0.1, -0.1]],\n",
       "      dtype=float32)"
      ]
     },
     "execution_count": 6,
     "metadata": {},
     "output_type": "execute_result"
    }
   ],
   "source": [
    "train_data['label'][:3]"
   ]
  },
  {
   "cell_type": "code",
   "execution_count": 7,
   "metadata": {},
   "outputs": [
    {
     "name": "stderr",
     "output_type": "stream",
     "text": [
      "WARNING:matplotlib.image:Clipping input data to the valid range for imshow with RGB data ([0..1] for floats or [0..255] for integers).\n",
      "WARNING:matplotlib.image:Clipping input data to the valid range for imshow with RGB data ([0..1] for floats or [0..255] for integers).\n",
      "WARNING:matplotlib.image:Clipping input data to the valid range for imshow with RGB data ([0..1] for floats or [0..255] for integers).\n"
     ]
    },
    {
     "data": {
      "image/png": "[encoded data removed]",
      "text/plain": [
       "<Figure size 864x360 with 3 Axes>"
      ]
     },
     "metadata": {
      "needs_background": "light"
     },
     "output_type": "display_data"
    }
   ],
   "source": [
    "fig, axes = plt.subplots(1, 3, figsize = (12, 5))\n",
    "for i, ax in enumerate(axes):\n",
    "    ax.imshow(train_data['image'][i])"
   ]
  },
  {
   "cell_type": "markdown",
   "metadata": {},
   "source": [
    "## Modelling"
   ]
  },
  {
   "cell_type": "code",
   "execution_count": 8,
   "metadata": {},
   "outputs": [],
   "source": [
    "key = random.PRNGKey(0)\n",
    "def ConvolutionalNetwork(depth, W_std=1.0, b_std=0.0):\n",
    "    layers = []\n",
    "    for _ in range(depth):\n",
    "        layers += [stax.Conv(1, (3, 3), W_std = W_std, b_std = b_std, padding='SAME'), stax.Relu()]\n",
    "    layers += [stax.Flatten(), stax.Dense(10, W_std, b_std)]    \n",
    "    return stax.serial(*layers)"
   ]
  },
  {
   "cell_type": "code",
   "execution_count": 15,
   "metadata": {},
   "outputs": [],
   "source": [
    "depth = 5\n",
    "init_fn, apply_fn, kernel_fn = ConvolutionalNetwork(depth = depth)\n",
    "batched_kernel_fn = nt.batch(kernel_fn, batch_size=10, store_on_device= False)"
   ]
  },
  {
   "cell_type": "markdown",
   "metadata": {},
   "source": [
    "## Calculating the Marginal Log Likelihood of a GP"
   ]
  },
  {
   "cell_type": "markdown",
   "metadata": {},
   "source": [
    "The marginal log-likelihood of a G.P with 0 mean and covariance $K_y$ according to Rasmussen is:<br>\n",
    "<br>\n",
    "$log(p(Y|x) = -\\frac{1}{2}y^TK_y^{-1}y - \\frac{1}{2}log(|K_y|) - \\frac{n}{2}log(2\\pi)$ <br><br>\n",
    "$-log(p(Y|x) = \\frac{1}{2}y^TK_y^{-1}y + \\frac{1}{2}log(|K_y|) + \\frac{n}{2}log(2\\pi)$ <br>\n",
    "\n",
    "Where <br>\n",
    "* $Y$ is a flattened $Cn \\times 1$ shaped vector of the outputs of the NN\n",
    "* The matrix $K_y = K \\otimes I_{10}$, where K is the original covariance matrix obtained by default from the kernel function of neural tangents. I used nt.utils.utils.make_2d to turn this into a 2d matrix. \n",
    "<br><br>\n",
    "\n",
    "$K_y = LL^T$, where $L$ is lower triangular\n",
    "<br>\n",
    "$log(|K_y|) = 2\\sum_{i = 1}^{n}log L_{ii}$\n",
    "\n",
    "\n",
    "\n",
    "<!-- $\\begin{bmatrix} \n",
    "k_{11} & k_{12} & \\dots & k_{1n}\\\\ \n",
    "k_{21} & k_{22} & \\dots & k_{2n} \\\\ \n",
    "\\dots &\\\\\n",
    "k_{n1} & k_{n2} & \\dots & k_{nn} \n",
    "\\end{bmatrix}$\n",
    "\n",
    "\n",
    "Where:\n",
    "$K_{ij}$ is a 10 by 10 matrix \n",
    "\n",
    "* $K_y$ is be a $Cn \\times Cn$ covariance matrix, where C is the number of classes and n is the number of training or test points. For training points, I take this to be $K(X_{train}, X_{train})$ and for test points, I use $K(X_{test}, X_{test})$\n",
    "* $Y$ is a flattened $Cn \\times 1$ shaped vector of the outputs of the NN<br> -->"
   ]
  },
  {
   "cell_type": "code",
   "execution_count": 20,
   "metadata": {},
   "outputs": [],
   "source": [
    "def negative_mll(X, Y):\n",
    "    '''\n",
    "    X: training inputs (images). Shape (n x 32 x 32 x 3)\n",
    "    Y: training outputs. Shape (n x 10)\n",
    "    '''\n",
    "    # First calculate K(x_train, x_train)\n",
    "    k_dd = batched_kernel_fn(X, get = 'nngp')\n",
    "    \n",
    "    # Shape (n, 1)\n",
    "    y = Y.flatten()[:, np.newaxis] \n",
    "    # Shape (1,n)\n",
    "    y_t = y.T\n",
    "\n",
    "    # Shape (n x n x 10 x 10)\n",
    "    k_dd_big = np.tensordot(k_dd, np.eye(10), axes = 0)\n",
    "    # Shape (10n x 10n)\n",
    "    k_dd_big = nt.utils.utils.make_2d(k_dd_big)\n",
    "\n",
    "    # Cholesky factorisation\n",
    "    l = sp.linalg.cho_factor(k_dd_big, lower= True)\n",
    "    k_inv_y = sp.linalg.cho_solve(l, y)\n",
    "\n",
    "    # First term\n",
    "    likelihood_term = 0.5*(y_t@k_inv_y)\n",
    "    # Middle term\n",
    "    determinant_term = np.sum(np.log(np.diag(l[0])))\n",
    "    # last term\n",
    "    constant_term = 0.5*y.shape[0]*np.log(2*np.pi)\n",
    "    \n",
    "    # Full mll\n",
    "    negative_log_likelihood = likelihood_term + determinant_term + constant_term\n",
    "    \n",
    "    return negative_log_likelihood/y.shape[0]"
   ]
  },
  {
   "cell_type": "code",
   "execution_count": 25,
   "metadata": {},
   "outputs": [
    {
     "name": "stdout",
     "output_type": "stream",
     "text": [
      "100\n",
      "200\n",
      "300\n",
      "500\n",
      "1000\n"
     ]
    }
   ],
   "source": [
    "nll_list = []\n",
    "for n in [100, 200, 300, 500, 1000]:\n",
    "    print(n)\n",
    "    train_data, _ = generate_datasets(train_size=n, test_size=10, type = 'cifar10', flatten=False)\n",
    "    X, Y = train_data['image'], train_data['label']\n",
    "    nll = negative_mll(X, Y)\n",
    "    nll_list.append(nll[0])"
   ]
  },
  {
   "cell_type": "code",
   "execution_count": 26,
   "metadata": {},
   "outputs": [
    {
     "data": {
      "text/plain": [
       "[DeviceArray([6.86632167], dtype=float64),\n",
       " DeviceArray([8.41041578], dtype=float64),\n",
       " DeviceArray([8.99545243], dtype=float64),\n",
       " DeviceArray([10.46552396], dtype=float64),\n",
       " DeviceArray([12.40615475], dtype=float64)]"
      ]
     },
     "execution_count": 26,
     "metadata": {},
     "output_type": "execute_result"
    }
   ],
   "source": [
    "nll_list"
   ]
  },
  {
   "cell_type": "code",
   "execution_count": 31,
   "metadata": {},
   "outputs": [
    {
     "data": {
      "text/plain": [
       "Text(0, 0.5, 'Negative Marginal log likelihood')"
      ]
     },
     "execution_count": 31,
     "metadata": {},
     "output_type": "execute_result"
    },
    {
     "data": {
      "image/png": "[encoded data removed]",
      "text/plain": [
       "<Figure size 432x288 with 1 Axes>"
      ]
     },
     "metadata": {
      "needs_background": "light"
     },
     "output_type": "display_data"
    }
   ],
   "source": [
    "plt.plot([100, 200, 300, 500, 1000], nll_list, 'o-')\n",
    "plt.xlabel('n')\n",
    "plt.ylabel('Negative Marginal log likelihood')"
   ]
  }
 ],
 "metadata": {
  "kernelspec": {
   "display_name": "Python 3",
   "language": "python",
   "name": "python3"
  },
  "language_info": {
   "codemirror_mode": {
    "name": "ipython",
    "version": 3
   },
   "file_extension": ".py",
   "mimetype": "text/x-python",
   "name": "python",
   "nbconvert_exporter": "python",
   "pygments_lexer": "ipython3",
   "version": "3.7.3"
  }
 },
 "nbformat": 4,
 "nbformat_minor": 2
}
