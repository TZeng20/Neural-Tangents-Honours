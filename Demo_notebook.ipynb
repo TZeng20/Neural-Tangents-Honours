{
 "cells": [
  {
   "cell_type": "code",
   "execution_count": 2,
   "metadata": {},
   "outputs": [],
   "source": [
    "import numpy as onp\n",
    "import math\n",
    "import jax.numpy as np\n",
    "import matplotlib.pyplot as plt\n",
    "from functools import partial\n",
    "import tensorflow_datasets as tfds\n",
    "import tensorflow as tf\n",
    "import os\n",
    "import gzip\n",
    "from jax.config import config\n",
    "config.update(\"jax_enable_x64\", True)\n",
    "import neural_tangents as nt  # 64-bit precision enabled\n",
    "from neural_tangents import stax\n",
    "from jax import random, vmap\n",
    "from jax.api import jit\n",
    "from jax.api import grad\n",
    "from jax.experimental import optimizers\n",
    "from Utils.Utils_misc_functions import generate_datasets"
   ]
  },
  {
   "cell_type": "markdown",
   "metadata": {},
   "source": [
    "## Data Loading and conversion"
   ]
  },
  {
   "cell_type": "markdown",
   "metadata": {},
   "source": [
    "Below are functions I used to generate the data. train_data and test_data are dictionaries {'image':X, 'label': Y}. \n",
    "<br>\n",
    "X are the images of size (32 x 32 x 3). Y represents one-hot encoded labels of dimension 10, where off entries are equal to -0.1 and on entries are equal to 0.9. <br>\n",
    "For demonstration purposes, I picked **200 training points and 50 test points**"
   ]
  },
  {
   "cell_type": "code",
   "execution_count": 3,
   "metadata": {},
   "outputs": [],
   "source": [
    "train_size = 200\n",
    "test_size = 50\n",
    "train_data, test_data = generate_datasets(train_size=train_size, test_size=test_size, flatten=False)"
   ]
  },
  {
   "cell_type": "code",
   "execution_count": 4,
   "metadata": {},
   "outputs": [
    {
     "data": {
      "text/plain": [
       "dict_keys(['image', 'label'])"
      ]
     },
     "execution_count": 4,
     "metadata": {},
     "output_type": "execute_result"
    }
   ],
   "source": [
    "train_data.keys()"
   ]
  },
  {
   "cell_type": "code",
   "execution_count": 5,
   "metadata": {},
   "outputs": [
    {
     "name": "stderr",
     "output_type": "stream",
     "text": [
      "/dora/users/stfour/tuoz/stax_computing/lib/python3.7/site-packages/jax/lib/xla_bridge.py:130: UserWarning: No GPU/TPU found, falling back to CPU.\n",
      "  warnings.warn('No GPU/TPU found, falling back to CPU.')\n"
     ]
    },
    {
     "data": {
      "text/plain": [
       "Text(0.5, 1.0, 'Distribution of classes in training data')"
      ]
     },
     "execution_count": 5,
     "metadata": {},
     "output_type": "execute_result"
    },
    {
     "data": {
      "image/png": "[encoded data removed]",
      "text/plain": [
       "<Figure size 432x288 with 1 Axes>"
      ]
     },
     "metadata": {
      "needs_background": "light"
     },
     "output_type": "display_data"
    }
   ],
   "source": [
    "number_classes = np.sum(train_data['label'] > 0, axis = 0)\n",
    "plt.plot(range(10), number_classes)\n",
    "plt.xlabel('Classes')\n",
    "plt.ylabel('Number')\n",
    "plt.title('Distribution of classes in training data')"
   ]
  },
  {
   "cell_type": "markdown",
   "metadata": {},
   "source": [
    "## Modelling"
   ]
  },
  {
   "cell_type": "markdown",
   "metadata": {},
   "source": [
    "The function below generates a CNN network with \"depth\" number of hidden layers and Relu activation. The final layer flattens the outputs of the last CNN layer before feeding it to a fully connected layer. The parameters are depth of the network and variance of the weights and biases. It returns 3 functions; init_fn, apply_fn and kernel_fn. kernel_fn refers to the infinite width version of the given architecture whilst the other two refer to the finite version. <br>\n",
    "* **init_fn** : a function to initialise parameters of the network \n",
    "* **apply_fn**: a function for forward propogation; calculates outputs of the network given the inputs (images) \n",
    "* **kernel_fn**: The kernel function of the infinite network (GP), with options for both NTK and NNGP kernels. "
   ]
  },
  {
   "cell_type": "code",
   "execution_count": 6,
   "metadata": {},
   "outputs": [],
   "source": [
    "key = random.PRNGKey(0)\n",
    "def ConvolutionalNetwork(depth, W_std=1.0, b_std=0.0):\n",
    "    layers = []\n",
    "    for _ in range(depth):\n",
    "        layers += [stax.Conv(1, (3, 3), W_std = W_std, b_std = b_std, padding='SAME'), stax.Relu()]\n",
    "    layers += [stax.Flatten(), stax.Dense(10, W_std, b_std)]    \n",
    "    return stax.serial(*layers)"
   ]
  },
  {
   "cell_type": "markdown",
   "metadata": {},
   "source": [
    "With the above functions defined, we can now create the functions for our specific architecture. Our NN will be a 2 hidden layer CNN. "
   ]
  },
  {
   "cell_type": "code",
   "execution_count": 7,
   "metadata": {},
   "outputs": [],
   "source": [
    "# Generate functions\n",
    "depth = 2\n",
    "init_fn, apply_fn, kernel_fn = ConvolutionalNetwork(depth = depth)\n",
    "\n",
    "# Batched kernel_fn\n",
    "batch_size = math.gcd(train_size, test_size)\n",
    "batched_kernel_fn = nt.batch(kernel_fn, batch_size=10, store_on_device= False)\n",
    "\n",
    "# Initial parameters. (32,32,3) is the dimension of each image\n",
    "_, initial_params = init_fn(key, (-1, 32, 32, 3))"
   ]
  },
  {
   "cell_type": "markdown",
   "metadata": {},
   "source": [
    "We can generate the outputs for the first 3 images in our training dataset. As expected, this returns a 3 x 10 output matrix"
   ]
  },
  {
   "cell_type": "code",
   "execution_count": 8,
   "metadata": {},
   "outputs": [
    {
     "name": "stderr",
     "output_type": "stream",
     "text": [
      "/dora/users/stfour/tuoz/stax_computing/lib/python3.7/site-packages/jax/numpy/lax_numpy.py:1621: FutureWarning: jax.numpy reductions won't accept lists and tuples in future versions, only scalars and ndarrays\n",
      "  warnings.warn(msg, category=FutureWarning)\n"
     ]
    },
    {
     "data": {
      "text/plain": [
       "DeviceArray([[ 0.07063823, -0.12127789, -1.0885475 , -0.77978387,\n",
       "              -0.34610889, -0.48096224,  0.37467043, -0.16124008,\n",
       "              -0.23247861, -0.61823059],\n",
       "             [-0.04603397, -0.57805611, -0.61686252,  0.52422678,\n",
       "              -0.53794736,  0.34639732,  0.32485144, -0.20444674,\n",
       "               0.59591507, -0.37671545],\n",
       "             [ 0.17648354, -0.32829869, -0.62099431,  0.33338067,\n",
       "               0.02851771, -0.53202541, -0.06019741, -0.04101137,\n",
       "               0.09568016,  0.21143802]], dtype=float64)"
      ]
     },
     "execution_count": 8,
     "metadata": {},
     "output_type": "execute_result"
    }
   ],
   "source": [
    "apply_fn(initial_params, train_data['image'][:3])"
   ]
  },
  {
   "cell_type": "markdown",
   "metadata": {},
   "source": [
    "We can also calculate the covariance matrix for these 3 images, for both the NNGP (Bayesian infinite NN) and NTK (gradient descent trained infinite network)"
   ]
  },
  {
   "cell_type": "code",
   "execution_count": 9,
   "metadata": {
    "scrolled": true
   },
   "outputs": [
    {
     "name": "stderr",
     "output_type": "stream",
     "text": [
      "/dora/users/stfour/tuoz/stax_computing/lib/python3.7/site-packages/jax/lib/xla_bridge.py:130: UserWarning: No GPU/TPU found, falling back to CPU.\n",
      "  warnings.warn('No GPU/TPU found, falling back to CPU.')\n"
     ]
    },
    {
     "data": {
      "text/plain": [
       "Kernel(nngp=DeviceArray([[0.22593311, 0.12790779, 0.12160144],\n",
       "             [0.12790779, 0.23514147, 0.12030579],\n",
       "             [0.12160144, 0.12030579, 0.23931955]], dtype=float64), ntk=DeviceArray([[0.67779934, 0.23323209, 0.22273706],\n",
       "             [0.23323209, 0.70542441, 0.20808586],\n",
       "             [0.22273706, 0.20808586, 0.71795864]], dtype=float64), cov1=DeviceArray([0.22593311, 0.23514147, 0.23931955], dtype=float64), cov2=DeviceArray([0.22593311, 0.23514147, 0.23931955], dtype=float64), x1_is_x2=DeviceArray(True, dtype=bool), is_gaussian=True, is_reversed=False, is_input=False, diagonal_batch=True, diagonal_spatial=False, shape1=(3, 10), shape2=(3, 10), batch_axis=0, channel_axis=1, mask1=None, mask2=None)"
      ]
     },
     "execution_count": 9,
     "metadata": {},
     "output_type": "execute_result"
    }
   ],
   "source": [
    "kernel_fn(train_data['image'][:3], train_data['image'][:3])"
   ]
  },
  {
   "cell_type": "markdown",
   "metadata": {},
   "source": [
    "The core of Neural Tangents is a map $\\mathcal T$ for a wide range of architectures such that $K^{l + 1} = \\mathcal T(K^l)$. This means that given a single neural network layer for which we know the kernel, neural tangents allows us to calculate the kernel of the resulting architecture after applying a subsequent neural network layer. Hence, we can calculate kernels of complex architectures by composing the kernels of each individual layer. \n",
    "<br><br>\n",
    "For example, the block below computes the kernel function for a CNN layer and FCN layer. We can calculate the kernel of an architecture of a CNN layer followed by a FCN layer by composing these individual kernels. Alternatively, we can just use stax.serial like above to automatically get the resulting kernel of an architecture. "
   ]
  },
  {
   "cell_type": "code",
   "execution_count": 28,
   "metadata": {},
   "outputs": [],
   "source": [
    "ex_cnn_layer = stax.Conv(1, (3,3), (5,5), padding='SAME')[2]\n",
    "ex_fcn_layer = stax.Dense(1)[2]\n",
    "ex_combined = stax.serial(stax.Conv(1, (3,3), (5,5), padding='SAME'), stax.Dense(1))[2]"
   ]
  },
  {
   "cell_type": "code",
   "execution_count": 29,
   "metadata": {
    "scrolled": true
   },
   "outputs": [
    {
     "data": {
      "text/plain": [
       "DeviceArray(True, dtype=bool)"
      ]
     },
     "execution_count": 29,
     "metadata": {},
     "output_type": "execute_result"
    }
   ],
   "source": [
    "(ex_fcn_layer(ex_cnn_layer(test_data['image'])).ntk == ex_combined(test_data['image']).ntk).all()"
   ]
  },
  {
   "cell_type": "code",
   "execution_count": 30,
   "metadata": {},
   "outputs": [
    {
     "data": {
      "text/plain": [
       "(50, 50, 7, 7, 7, 7)"
      ]
     },
     "execution_count": 30,
     "metadata": {},
     "output_type": "execute_result"
    }
   ],
   "source": [
    "ex_fcn_layer(ex_cnn_layer(test_data['image'])).ntk.shape"
   ]
  },
  {
   "cell_type": "markdown",
   "metadata": {},
   "source": [
    "## Prediction"
   ]
  },
  {
   "cell_type": "markdown",
   "metadata": {},
   "source": [
    "Prediction involves calculating the Posterior predictive distribution of the GP, $P(X_{test} | X_{train}, Y_{train}, K)$, where K refers to the kernel function<br>\n",
    "\n",
    "Ensemble means that the architecture is not dependent on $f_0(x_{train})$, or $f_0(x_{test})$, the train and test outputs of the network at initialisation. i.e. Not dependent on initialisation of variables. "
   ]
  },
  {
   "cell_type": "code",
   "execution_count": 11,
   "metadata": {},
   "outputs": [],
   "source": [
    "# GP inference posterior ENSEMBLE\n",
    "\n",
    "predict_fn = nt.predict.gradient_descent_mse_ensemble(batched_kernel_fn,train_data['image'], train_data['label'])\n",
    "#train_mean, train_cov = predict_fn(x_test=train_data['image'], get='ntk', compute_cov=True)\n",
    "train_mean, train_cov = predict_fn(compute_cov = True).ntk\n",
    "test_mean, test_cov = predict_fn(x_test=test_data['image'], get='ntk', compute_cov=True)"
   ]
  },
  {
   "cell_type": "code",
   "execution_count": 12,
   "metadata": {},
   "outputs": [
    {
     "name": "stdout",
     "output_type": "stream",
     "text": [
      "The shape of the test mean is (50, 10) and the shape of the test covariance matrix is (50, 50)\n"
     ]
    }
   ],
   "source": [
    "print('The shape of the test mean is {} and the shape of the test covariance matrix is {}'.format(\n",
    "    test_mean.shape, test_cov.shape))"
   ]
  },
  {
   "cell_type": "markdown",
   "metadata": {},
   "source": [
    "We can then use the mean of the posterior predictive distribution as the predictions to calculate metrics like loss and accuracy. Note that the mean of the training predictive distribution will always equal $Y_{train}$, meaning that loss and accuracy will always be 0 and 100% respectively. "
   ]
  },
  {
   "cell_type": "code",
   "execution_count": 13,
   "metadata": {},
   "outputs": [],
   "source": [
    "# METRICS\n",
    "\n",
    "# MSE loss\n",
    "loss = lambda y_hat, y: 0.5 * np.mean((y_hat - y) ** 2)\n",
    "\n",
    "# Accuracy\n",
    "def accuracy(predicted, targets):\n",
    "    target_class = np.argmax(targets, axis=1)\n",
    "    predicted_class = np.argmax(predicted, axis = 1)\n",
    "    return np.mean(predicted_class == target_class)"
   ]
  },
  {
   "cell_type": "markdown",
   "metadata": {},
   "source": [
    "The accuracy below is only 0.36 but if the GP is fed more training points, the accuracy will be a lot higher. "
   ]
  },
  {
   "cell_type": "code",
   "execution_count": 26,
   "metadata": {},
   "outputs": [
    {
     "name": "stdout",
     "output_type": "stream",
     "text": [
      "For the test data, the loss is 0.041812 and the accuracy is 0.360000\n"
     ]
    }
   ],
   "source": [
    "print('For the test data, the loss is {:4f} and the accuracy is {:4f}'.format(\n",
    "    loss(test_mean, test_data['label']), accuracy(test_mean, test_data['label'])))"
   ]
  },
  {
   "cell_type": "markdown",
   "metadata": {},
   "source": [
    "## Calculating the Marginal Log Likelihood of a GP"
   ]
  },
  {
   "cell_type": "markdown",
   "metadata": {},
   "source": [
    "The marginal log-likelihood, according to Rasmussen is:<br>\n",
    "<br>\n",
    "$log(p(Y|x) = -\\frac{1}{2}y^TK_y^{-1}y - \\frac{1}{2}log(|K_y|) - \\frac{n}{2}log(2\\pi)$ <br>\n",
    "\n",
    "Where:\n",
    "* $K_y$ is be a $Cn \\times Cn$ covariance matrix, where C is the number of classes and n is the number of training or test points. For training points, I take this to be $K(X_{train}, X_{train})$ and for test points, I use $K(X_{test}, X_{test})$\n",
    "* $Y$ is a flattened $Cn \\times 1$ shaped vector of the outputs of the NN<br>"
   ]
  },
  {
   "cell_type": "markdown",
   "metadata": {},
   "source": [
    "In the infinite width limit, the kernel matrix becomes a block diagonal and is to be interpreted as $K \\otimes I$. According to the documentation, the covariance along channel/feature/logit axes converges to a constant-diagonal matrix. This means that there is no covariance between the different neurons of the output layer. This makes sense because if you consider a fully connected network, as the width tends to infinity, there is an infinite number of neurons. <br>\n",
    "<br>\n",
    "In the functions below, since the kernel functions $K_y$ are only of size nxn, I repeat it along the diagonals 10 times becuase the outputs of CIFAR-10 are of dimension 10"
   ]
  },
  {
   "cell_type": "code",
   "execution_count": 18,
   "metadata": {},
   "outputs": [],
   "source": [
    "def repeat_along_diag(a, r):\n",
    "    '''\n",
    "    This functions repeats a matrix a along the diagonal r times. If the dimension of matrix a is (m x n)\n",
    "    will return a matrix of shape (mxr) x (nxr)\n",
    "    '''\n",
    "    m,n = a.shape\n",
    "    out = onp.zeros((r,m,r,n), dtype=a.dtype)\n",
    "    diag = onp.einsum('ijik->ijk',out)\n",
    "    diag[:] = a\n",
    "    return out.reshape(-1,n*r)\n",
    "\n",
    "def marginal_log_likelihood(Y, cov, dim = 10):\n",
    "    '''\n",
    "    Calculates the marginal log likelihood of predictions\n",
    "    '''\n",
    "    # Shape (n, 1)\n",
    "    y = Y.flatten('F')[:np.newaxis] \n",
    "    # Shape (1,n)\n",
    "    y_t = Y.flatten('F')[np.newaxis, :]\n",
    "    # Shape (nd x nd)\n",
    "    cov_inv = np.linalg.inv(cov)\n",
    "    # Shape (nd x nd)\n",
    "    cov_inv_big = repeat_along_diag(cov_inv, dim)\n",
    "    likelihood_term = -0.5*(y_t @ cov_inv_big @ y)\n",
    "    \n",
    "    cov_determinant = np.linalg.det(cov)\n",
    "    determinant_term = -0.5*dim*np.log(cov_determinant + 1e-8)\n",
    "    \n",
    "    constant_term = -((dim*1)/2)*np.log(2*np.pi)\n",
    "    return likelihood_term + determinant_term + constant_term"
   ]
  },
  {
   "cell_type": "code",
   "execution_count": 21,
   "metadata": {},
   "outputs": [],
   "source": [
    "# First calculate K(x_train, x_train) and K(x_test, x_test)\n",
    "k_dd = batched_kernel_fn(train_data['image']).ntk\n",
    "k_tt = batched_kernel_fn(test_data['image']).ntk"
   ]
  },
  {
   "cell_type": "code",
   "execution_count": 22,
   "metadata": {},
   "outputs": [
    {
     "data": {
      "text/plain": [
       "DeviceArray([-211.30175521], dtype=float64)"
      ]
     },
     "execution_count": 22,
     "metadata": {},
     "output_type": "execute_result"
    }
   ],
   "source": [
    "# The marginal log-likelihood of the training data (200 training points)\n",
    "marginal_log_likelihood(train_data['label'], k_dd)"
   ]
  },
  {
   "cell_type": "markdown",
   "metadata": {},
   "source": [
    "This is obviously not right if we compare it to the figures in the Neural tangents library paper [link](https://arxiv.org/abs/1912.02803). The range of log marginal log likelihoods in that paper go from 1 to 3 whereas for above it is -211. "
   ]
  },
  {
   "cell_type": "code",
   "execution_count": null,
   "metadata": {},
   "outputs": [],
   "source": []
  }
 ],
 "metadata": {
  "kernelspec": {
   "display_name": "Python 3",
   "language": "python",
   "name": "python3"
  },
  "language_info": {
   "codemirror_mode": {
    "name": "ipython",
    "version": 3
   },
   "file_extension": ".py",
   "mimetype": "text/x-python",
   "name": "python",
   "nbconvert_exporter": "python",
   "pygments_lexer": "ipython3",
   "version": "3.7.3"
  }
 },
 "nbformat": 4,
 "nbformat_minor": 2
}
